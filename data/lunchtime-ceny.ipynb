{
 "metadata": {
  "name": "",
  "signature": "sha256:662501752fa8c59df3693609df04cbec001f9154a8bd4a555e7a271b623cef98"
 },
 "nbformat": 3,
 "nbformat_minor": 0,
 "worksheets": [
  {
   "cells": [
    {
     "cell_type": "code",
     "collapsed": false,
     "input": [
      "import urllib2\n",
      "import time\n",
      "import pandas as pd\n",
      "from bs4 import BeautifulSoup\n",
      "import re\n",
      "import os\n",
      "import csv\n",
      "import numpy as np\n",
      "from geopy import geocoders\n",
      "from sys import exit\n",
      "import sys"
     ],
     "language": "python",
     "metadata": {},
     "outputs": [],
     "prompt_number": 1
    },
    {
     "cell_type": "code",
     "collapsed": false,
     "input": [
      "mesta = ['404-hlavni-mesto-praha', '400-jihomoravsky-kraj', '402-moravskoslezsky-kraj', '392-jihocesky-kraj', '394-karlovarsky-kraj', '397-kralovehradecky-kraj', '396-liberecky-kraj', '401-olomoucky-kraj', '398-pardubicky-kraj', '393-plzensky-kraj', 'stredocesky-kraj', '395-ustecky-kraj', 'vysocina', '403-zlinsky-kraj', 'z-dalsich-v-cr']\n",
      "\n",
      "for mesto in mesta:\n",
      "    print mesto\n",
      "    url = urllib2.urlopen('http://www.lunchtime.cz/denni-menu/' + mesto)\n",
      "    out = open('/Users/jancibulka/DEVEL/DATA/lunchtime-ceny/data/scraped/' + mesto + '.html', 'w')\n",
      "    content = url.read()\n",
      "    out.write(content)\n",
      "    out.close()\n",
      "    time.sleep(1)\n",
      "    soup = BeautifulSoup(content, 'html.parser', from_encoding='utf-8')\n",
      "    pagination = soup.find('section', class_='pagination')\n",
      "    counter = 0\n",
      "    for link in pagination.find_all('a', class_='step'):\n",
      "        counter += 1\n",
      "        href = link.get('href')\n",
      "        url_next = urllib2.urlopen('http://www.lunchtime.cz' + href)\n",
      "        out_next = open('/Users/jancibulka/DEVEL/DATA/lunchtime-ceny/data/scraped/' + mesto + '_' + str(counter) + '.html', 'w')\n",
      "        content_next = url_next.read()\n",
      "        out_next.write(content_next)\n",
      "        out_next.close()\n",
      "        time.sleep(1)"
     ],
     "language": "python",
     "metadata": {},
     "outputs": [
      {
       "output_type": "stream",
       "stream": "stdout",
       "text": [
        "404-hlavni-mesto-praha\n",
        "400-jihomoravsky-kraj"
       ]
      },
      {
       "output_type": "stream",
       "stream": "stdout",
       "text": [
        "\n",
        "402-moravskoslezsky-kraj"
       ]
      },
      {
       "output_type": "stream",
       "stream": "stdout",
       "text": [
        "\n",
        "392-jihocesky-kraj"
       ]
      },
      {
       "output_type": "stream",
       "stream": "stdout",
       "text": [
        "\n",
        "394-karlovarsky-kraj"
       ]
      },
      {
       "output_type": "stream",
       "stream": "stdout",
       "text": [
        "\n",
        "397-kralovehradecky-kraj"
       ]
      },
      {
       "output_type": "stream",
       "stream": "stdout",
       "text": [
        "\n",
        "396-liberecky-kraj"
       ]
      },
      {
       "output_type": "stream",
       "stream": "stdout",
       "text": [
        "\n",
        "401-olomoucky-kraj"
       ]
      },
      {
       "output_type": "stream",
       "stream": "stdout",
       "text": [
        "\n",
        "398-pardubicky-kraj"
       ]
      },
      {
       "output_type": "stream",
       "stream": "stdout",
       "text": [
        "\n",
        "393-plzensky-kraj"
       ]
      },
      {
       "output_type": "stream",
       "stream": "stdout",
       "text": [
        "\n",
        "stredocesky-kraj"
       ]
      },
      {
       "output_type": "stream",
       "stream": "stdout",
       "text": [
        "\n",
        "395-ustecky-kraj"
       ]
      },
      {
       "output_type": "stream",
       "stream": "stdout",
       "text": [
        "\n",
        "vysocina"
       ]
      },
      {
       "output_type": "stream",
       "stream": "stdout",
       "text": [
        "\n",
        "403-zlinsky-kraj"
       ]
      },
      {
       "output_type": "stream",
       "stream": "stdout",
       "text": [
        "\n",
        "z-dalsich-v-cr"
       ]
      },
      {
       "output_type": "stream",
       "stream": "stdout",
       "text": [
        "\n"
       ]
      }
     ],
     "prompt_number": 21
    },
    {
     "cell_type": "code",
     "collapsed": false,
     "input": [
      "#Extrakce dat ze stazenych stranek"
     ],
     "language": "python",
     "metadata": {},
     "outputs": [],
     "prompt_number": 9
    },
    {
     "cell_type": "code",
     "collapsed": false,
     "input": [
      "#Extrahuje adresy\n",
      "with open('/Users/jancibulka/DEVEL/DATA/lunchtime-ceny/data/podniky_ceny.csv', 'w') as out:\n",
      "    writer = csv.writer(out, delimiter=',', quotechar='\"', quoting=csv.QUOTE_MINIMAL)\n",
      "    writer.writerow(['id', 'adresa', 'prum_cena'])\n",
      "    \n",
      "    for filename in os.listdir('/Users/jancibulka/DEVEL/DATA/lunchtime-ceny/data/scraped'):\n",
      "        if(filename == '.DS_Store'):\n",
      "            continue\n",
      "        with open('/Users/jancibulka/DEVEL/DATA/lunchtime-ceny/data/scraped/' + filename) as f:\n",
      "            soup = BeautifulSoup(f, from_encoding='utf-8')\n",
      "            podniky = soup.find_all('section', class_='facility hidden')\n",
      "            for hospoda in podniky:\n",
      "                if (hospoda.find('a', class_='add-to-favorites') is not None):\n",
      "                    idcko = hospoda.find('a', class_='add-to-favorites').get('data-id').encode('utf-8')\n",
      "                else:\n",
      "                    idcko = 9999\n",
      "                if (hospoda.find('span', class_='address') is not None):\n",
      "                    adresa = hospoda.find('span', class_='address').text.encode('utf-8')\n",
      "                else:\n",
      "                    continue\n",
      "                ceny = []\n",
      "                for cena in hospoda.find_all('span', class_='price'):\n",
      "                    pricetag = cena.text.encode('utf-8').replace(' K\u010d', '')\n",
      "                    if (len(pricetag) > 1 and len(pricetag) < 5):\n",
      "                        ceny.append(int(pricetag))\n",
      "                writer.writerow([idcko, adresa, np.mean(ceny)])"
     ],
     "language": "python",
     "metadata": {},
     "outputs": [],
     "prompt_number": 24
    },
    {
     "cell_type": "code",
     "collapsed": false,
     "input": [
      "#Geocoding\n",
      "\n",
      "out = open('/Users/jancibulka/DEVEL/DATA/lunchtime-ceny/data/podniky_ceny_geo.csv', 'w')\n",
      "writer = csv.writer(out, delimiter=',', quotechar='\"', quoting=csv.QUOTE_MINIMAL)\n",
      "writer.writerow(['id', 'adresa', 'prum_cena', 'x', 'y'])\n",
      "\n",
      "with open('/Users/jancibulka/DEVEL/DATA/lunchtime-ceny/data/podniky_ceny_pha_nedele.csv', 'r') as csvfile:\n",
      "    loaded = csv.reader(csvfile, delimiter=',', quotechar='\"')\n",
      "    for addr in loaded:\n",
      "        if (addr[1] == 'adresa'):\n",
      "            continue\n",
      "        try:\n",
      "            g = geocoders.GoogleV3()\n",
      "            geo = g.geocode(addr[1])\n",
      "            if (geo is not None):\n",
      "                place, (lat, lng) = geo\n",
      "                writer.writerow([addr[0], addr[1], addr[2], lng, lat])\n",
      "                time.sleep(1)\n",
      "            else:\n",
      "                print 'Nenalezeno ID: ' + addr[0]\n",
      "        except:\n",
      "            try:\n",
      "                time.sleep(2)\n",
      "                g = geocoders.GoogleV3()\n",
      "                geo = g.geocode(addr[1])\n",
      "                if (geo is not None):\n",
      "                    place, (lat, lng) = geo\n",
      "                    writer.writerow([addr[0], addr[1], addr[2], lng, lat])\n",
      "                    time.sleep(1)\n",
      "                else:\n",
      "                    print 'Nenalezeno ID: ' + addr[0]\n",
      "            except:\n",
      "                try:\n",
      "                    time.sleep(5)\n",
      "                    g = geocoders.GoogleV3()\n",
      "                    geo = g.geocode(addr[1])\n",
      "                    if (geo is not None):\n",
      "                        place, (lat, lng) = geo\n",
      "                        writer.writerow([addr[0], addr[1], addr[2], lng, lat])\n",
      "                        time.sleep(1)\n",
      "                except:\n",
      "                    print 'Chyba u ID ' + addr[0]\n",
      "                    continue\n",
      "out.close()"
     ],
     "language": "python",
     "metadata": {},
     "outputs": [
      {
       "output_type": "stream",
       "stream": "stdout",
       "text": [
        "Chyba u ID 5459\n",
        "Chyba u ID 5415"
       ]
      },
      {
       "output_type": "stream",
       "stream": "stdout",
       "text": [
        "\n",
        "Chyba u ID 5401"
       ]
      },
      {
       "output_type": "stream",
       "stream": "stdout",
       "text": [
        "\n"
       ]
      }
     ],
     "prompt_number": 25
    }
   ],
   "metadata": {}
  }
 ]
}